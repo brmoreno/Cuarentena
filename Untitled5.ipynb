{
  "nbformat": 4,
  "nbformat_minor": 0,
  "metadata": {
    "colab": {
      "name": "Untitled5.ipynb",
      "provenance": [],
      "collapsed_sections": [],
      "authorship_tag": "ABX9TyMLLDkijqhZmvhDxGtBa5Ps",
      "include_colab_link": true
    },
    "kernelspec": {
      "name": "python3",
      "display_name": "Python 3"
    },
    "language_info": {
      "name": "python"
    }
  },
  "cells": [
    {
      "cell_type": "markdown",
      "metadata": {
        "id": "view-in-github",
        "colab_type": "text"
      },
      "source": [
        "<a href=\"https://colab.research.google.com/github/brmoreno/Cuarentena/blob/master/Untitled5.ipynb\" target=\"_parent\"><img src=\"https://colab.research.google.com/assets/colab-badge.svg\" alt=\"Open In Colab\"/></a>"
      ]
    },
    {
      "cell_type": "markdown",
      "source": [
        "Proceso básico de la poesía procedimental\n",
        "\n",
        "input -> proceso -> output\n",
        "\n",
        "INPUT\n",
        "fuente , semilla\n",
        "\n",
        "PROCESO\n",
        "1) obtener la fuente\n",
        "2) tratamiento de fuente\n",
        "3) implementar el proceso\n",
        "\n",
        "OUTPUT: \n",
        "texto -> una nueva semilla. "
      ],
      "metadata": {
        "id": "3oIS5lkN3N0M"
      }
    },
    {
      "cell_type": "code",
      "source": [
        "import requests\n",
        "r = requests.get(\"https://www.gutenberg.org/cache/epub/57303/pg57303.txt\")\n",
        "texto = r.text\n",
        "\n"
      ],
      "metadata": {
        "id": "5V-JpFb06Mee"
      },
      "execution_count": 1,
      "outputs": []
    },
    {
      "cell_type": "code",
      "source": [
        "lineas = []\n",
        "lineasIniciales = texto.splitlines()\n",
        "print(len(lineasIniciales))\n",
        "for linea in lineasIniciales:\n",
        "  if len(linea)>0:    \n",
        "    lineas.append(linea.strip())\n",
        "print(len(lineas))\n",
        "lineas = lineas[25:-1]"
      ],
      "metadata": {
        "colab": {
          "base_uri": "https://localhost:8080/"
        },
        "id": "9FF4tUdW8J7x",
        "outputId": "9cbdcd5d-bddf-43f0-ca22-8c565aecb04b"
      },
      "execution_count": 2,
      "outputs": [
        {
          "output_type": "stream",
          "name": "stdout",
          "text": [
            "14214\n",
            "11373\n"
          ]
        }
      ]
    },
    {
      "cell_type": "code",
      "source": [
        "palabras = []\n",
        "for linea in lineas:\n",
        "  pals = linea.split()\n",
        "  for palabra in pals:\n",
        "    palabras.append(palabra.strip('_¿?¡!()[].,:;-').lower())"
      ],
      "metadata": {
        "id": "SHpI46sM-uBG"
      },
      "execution_count": 3,
      "outputs": []
    },
    {
      "cell_type": "code",
      "source": [
        "import random\n",
        "def tzara(n , m):\n",
        "  linea = []\n",
        "  for i in range (0,n):\n",
        "    pos = random.randint(0,len(palabras))\n",
        "    linea.append(palabras[pos])\n",
        "  poema = []\n",
        "  verso = []\n",
        "  j = 0\n",
        "  while j < len(linea):\n",
        "    verso.append(linea[j])\n",
        "    if j%m==m-1:\n",
        "      poema.append(verso)\n",
        "      verso = []\n",
        "    j+=1\n",
        "  for v in poema:\n",
        "    print(' '.join(v))\n",
        "\n"
      ],
      "metadata": {
        "id": "4ouYgB4UBlm8"
      },
      "execution_count": 7,
      "outputs": []
    },
    {
      "cell_type": "code",
      "source": [
        "for i in range (0,10):\n",
        "  tzara(random.randint(50,100),random.randint(4,10))"
      ],
      "metadata": {
        "id": "qUIWajHB6W23"
      },
      "execution_count": null,
      "outputs": []
    },
    {
      "cell_type": "code",
      "source": [
        "import math\n",
        "def cutup(inicio, n):\n",
        "  paginaA = lineas[inicio:inicio+math.floor(n/2)]\n",
        "  paginaB = lineas[math.ceil(inicio+n/2):inicio+n]\n",
        "  sumatoria = 0\n",
        "  for linea in lineas[inicio:inicio + n]:\n",
        "    sumatoria += len(linea)\n",
        "  promedio = sumatoria/n\n",
        "  pagina1 = []\n",
        "  pagina2 =[]\n",
        "  pagina3 = []\n",
        "  pagina4 =[]\n",
        "  for linea in paginaA:\n",
        "    pagina1.append(linea[0:math.floor(promedio/2)])\n",
        "    pagina2.append(linea[math.floor(promedio/2):-1])\n",
        "  for linea in paginaB:\n",
        "    pagina3.append(linea[0:math.floor(promedio/2)])\n",
        "    pagina4.append(linea[math.floor(promedio/2):-1])\n",
        "  paginas = [pagina1,pagina2,pagina3,pagina4]\n",
        "  random.shuffle(paginas)\n",
        "  for i in range(len(paginas[0])):\n",
        "    print(paginas[0][i] + paginas[1][i])\n",
        "  for i in range(len(paginas[2])):\n",
        "    print(paginas[2][i] + paginas[3][i])"
      ],
      "metadata": {
        "id": "7xWOKgxAS3Mq"
      },
      "execution_count": null,
      "outputs": []
    },
    {
      "cell_type": "code",
      "source": [
        "for i in range(5):\n",
        "  cutup(random.randint(0,len(lineas)),random.randint(10,20))\n",
        "  print( )\n",
        "  print( )"
      ],
      "metadata": {
        "colab": {
          "base_uri": "https://localhost:8080/"
        },
        "id": "DSXQtlTM5L_T",
        "outputId": "bcd120b0-38db-44c1-9b7b-40cc13c28326"
      },
      "execution_count": 40,
      "outputs": [
        {
          "output_type": "stream",
          "name": "stdout",
          "text": [
            ", séame lícito preguntarte, ¡oh sumven a avergonzarte de tu fama. Y\n",
            " nosotros en la tierra! ¿Están vueltoJove, que fuiste crucificado por\n",
            "? ¿O es que nos vas preparando de eshacia otra parte tus justos ojos\n",
            "amientos, para recibir algún gran biemodo, en lo profundo de tus pens\n",
            "ligencia? Porque la tierra de Italique no puede prever nuestra inte\n",
            "re más ruin, al ingresar en un partidoestá llena de tiranos; y el homb\n",
            "se convierte en un Marcelo.\n",
            "Florencia mía, bien puedes estar satisfecha de esta digresión, que n\n",
            "habla contigo, merced a tu pueblo que tanto se ingenia. Hay mucho\n",
            "que tienen la justicia en el corazón, pero son tardíos en aplicarla\n",
            "porque temen disparar el arco imprudentemente; mas tu pueblo la tien\n",
            "en la punta de sus labios. Muchos rehusan los cargos públicos; pero t\n",
            "pueblo responde solícito, sin que le llamen, y grita: \"Yo los acepto.\n",
            "Alégrate, pues, que motivo tienes para ello. Eres rica, disfruta\n",
            "\n",
            "\n",
            " habían dado muerte el uno aEteocles y Polinyces, que se\n",
            "furcándose, que se odiaban auotro, la llama descubría, bi\n",
            "después de muertos.\n",
            "tus palabras han hecho que me cerciore d--¡Oh, Maestro!--respondí;--\n",
            " pensado así y quería decírtelo. Mas dimelo que veo; pero ya lo había\n",
            "e fueron puestos Eteocles y su hermanoparece salir de la pira dond\n",
            "Me contestó:\n",
            "os Ulises y Diomedes: juntos sufren aqu--Allí dentro están torturad\n",
            "s se entregaron a la ira. En esa llamun mismo castigo, como junto\n",
            "el caballo de madera, que fué la puertse llora también el engaño d\n",
            "\n",
            "\n",
            "ahora cuál fué el digno colega de Francisco, encargado de mantene\n",
            "la barca de Pedro en alta mar y dirigirla hacia su objeto: ese fué\n",
            "pues, nuestro patriarca; por lo cual, el que le sigue, según él manda\n",
            "puede decir que adquiere buena mercancía. Pero su rebaño se ha vuelt\n",
            "tan codicioso de nuevo alimento, que no puede menos de esparcirse po\n",
            "distintos prados; y cuanto más lejos de él van sus vagabundas ovejas\n",
            "más exhaustas de leche vuelven al redil. Algunas de ellas, temiend\n",
            " Italia. Sobre un áspero monte, entrrecoger el fruto de las plantas de\n",
            "sto el último sello, que sus miembroel Tíber y el Arno, recibió de Cri\n",
            "plugo a Aquél que le había elegidllevaron durante dos años. Cuando \n",
            "recompensa que mereció por haberspara tan gran tarea elevarle a la \n",
            "s, como a herederos legítimos, ehumillado, recomendó a sus hermano\n",
            "y que la amaran con fe: y en ecuidado de su más querida Esposa, \n",
            "a desprenderse para volver a sseno de ella quiso el alma preclar\n",
            "\n",
            "\n",
            "Jerusalén con su punto más elevado; y ya la noche, formando un arc\n",
            "en oposición a él, salía fuera del Ganges con las Balanzas que se l\n",
            "caen de las manos cuando supera en extensión al día; de modo que allí\n",
            "donde yo me encontraba, las blancas y sonrosadas mejillas de la bell\n",
            "Aurora, según iba creciendo, se tornaban de color de oro. Estábamo\n",
            "ien piensa en el camino que debaún en la orilla del mar, como qu\n",
            "que el cuerpo se mueva. Cuando hseguir, y anda con el deseo, sin \n",
            "por efecto de los densos vapores, saquí que, así como, al amanecer, \n",
            "nte sobre las aguas marinas, de iguave a Marte enrojecido hacia Ponie\n",
            "verla otra vez!--una luz, la cuamodo me apareció--¡ojalá pudiese \n",
            "\n",
            "\n",
            "en estos términos:\n",
            "no y la de Cleto,[186] no alimentó --Mi sangre, así como la de Li\n",
            "umbrarla a adquirir oro, sino para qula Esposa de Cristo para acost\n",
            "sa por la que Sixto y Pío, Calixto adquiriese aquella vida virtuo\n",
            "spués de muchas lágrimas. No fué nuestrUrbano derramaron su sangre de\n",
            "eblo cristiano estuviese sentada a lintención que una parte del pu\n",
            "de nuestro sucesor, ni que las llavederecha y otra a la izquierda \n",
            "que al perverso caído desde aquí[185] sirve allá abajo de complacencia\n",
            "[185] Lucifer.\n",
            "Entonces vi cubrirse todo el cielo de aquel color que comunica el So\n",
            "por mañana y tarde a las nubes opuestas a él; y cual mujer honesta que\n",
            "segura de sí misma, se ruboriza tan sólo al escuchar las faltas ajenas\n",
            "así vi yo a Beatriz cambiar de aspecto: un eclipse semejante creo qu\n",
            "hubo en el cielo cuando la pasión del Poder Supremo. Después, con vo\n",
            "\n",
            "\n"
          ]
        }
      ]
    }
  ]
}