{
  "nbformat": 4,
  "nbformat_minor": 0,
  "metadata": {
    "colab": {
      "name": "Untitled5.ipynb",
      "provenance": [],
      "collapsed_sections": [],
      "authorship_tag": "ABX9TyNuXQM+g8gpM+00ETIYoE0F",
      "include_colab_link": true
    },
    "kernelspec": {
      "name": "python3",
      "display_name": "Python 3"
    },
    "language_info": {
      "name": "python"
    },
    "widgets": {
      "application/vnd.jupyter.widget-state+json": {
        "925bd13d818d486b8e09d6bd8f50045c": {
          "model_module": "@jupyter-widgets/controls",
          "model_name": "HBoxModel",
          "model_module_version": "1.5.0",
          "state": {
            "_view_name": "HBoxView",
            "_dom_classes": [],
            "_model_name": "HBoxModel",
            "_view_module": "@jupyter-widgets/controls",
            "_model_module_version": "1.5.0",
            "_view_count": null,
            "_view_module_version": "1.5.0",
            "box_style": "",
            "layout": "IPY_MODEL_57bfb262857d43aa88a8e1036fee0b51",
            "_model_module": "@jupyter-widgets/controls",
            "children": [
              "IPY_MODEL_536e85a3ea394450acf2134f6905dfb1",
              "IPY_MODEL_be048253a5794b12a10bec444df6cc58",
              "IPY_MODEL_a5f570579a014432b428f46108acaf99"
            ]
          }
        },
        "57bfb262857d43aa88a8e1036fee0b51": {
          "model_module": "@jupyter-widgets/base",
          "model_name": "LayoutModel",
          "model_module_version": "1.2.0",
          "state": {
            "_view_name": "LayoutView",
            "grid_template_rows": null,
            "right": null,
            "justify_content": null,
            "_view_module": "@jupyter-widgets/base",
            "overflow": null,
            "_model_module_version": "1.2.0",
            "_view_count": null,
            "flex_flow": null,
            "width": null,
            "min_width": null,
            "border": null,
            "align_items": null,
            "bottom": null,
            "_model_module": "@jupyter-widgets/base",
            "top": null,
            "grid_column": null,
            "overflow_y": null,
            "overflow_x": null,
            "grid_auto_flow": null,
            "grid_area": null,
            "grid_template_columns": null,
            "flex": null,
            "_model_name": "LayoutModel",
            "justify_items": null,
            "grid_row": null,
            "max_height": null,
            "align_content": null,
            "visibility": null,
            "align_self": null,
            "height": null,
            "min_height": null,
            "padding": null,
            "grid_auto_rows": null,
            "grid_gap": null,
            "max_width": null,
            "order": null,
            "_view_module_version": "1.2.0",
            "grid_template_areas": null,
            "object_position": null,
            "object_fit": null,
            "grid_auto_columns": null,
            "margin": null,
            "display": null,
            "left": null
          }
        },
        "536e85a3ea394450acf2134f6905dfb1": {
          "model_module": "@jupyter-widgets/controls",
          "model_name": "HTMLModel",
          "model_module_version": "1.5.0",
          "state": {
            "_view_name": "HTMLView",
            "style": "IPY_MODEL_1de828e7c5f44f18b59efa166a4ad152",
            "_dom_classes": [],
            "description": "",
            "_model_name": "HTMLModel",
            "placeholder": "​",
            "_view_module": "@jupyter-widgets/controls",
            "_model_module_version": "1.5.0",
            "value": "Downloading https://raw.githubusercontent.com/stanfordnlp/stanza-resources/main/resources_1.3.0.json: ",
            "_view_count": null,
            "_view_module_version": "1.5.0",
            "description_tooltip": null,
            "_model_module": "@jupyter-widgets/controls",
            "layout": "IPY_MODEL_df5bea29e26147ec940509b9d4aa0908"
          }
        },
        "be048253a5794b12a10bec444df6cc58": {
          "model_module": "@jupyter-widgets/controls",
          "model_name": "FloatProgressModel",
          "model_module_version": "1.5.0",
          "state": {
            "_view_name": "ProgressView",
            "style": "IPY_MODEL_af1689e1d2e644999181b9e97d3d20e4",
            "_dom_classes": [],
            "description": "",
            "_model_name": "FloatProgressModel",
            "bar_style": "success",
            "max": 24459,
            "_view_module": "@jupyter-widgets/controls",
            "_model_module_version": "1.5.0",
            "value": 24459,
            "_view_count": null,
            "_view_module_version": "1.5.0",
            "orientation": "horizontal",
            "min": 0,
            "description_tooltip": null,
            "_model_module": "@jupyter-widgets/controls",
            "layout": "IPY_MODEL_0d75df8e2a314ca0acbb2c42e2490412"
          }
        },
        "a5f570579a014432b428f46108acaf99": {
          "model_module": "@jupyter-widgets/controls",
          "model_name": "HTMLModel",
          "model_module_version": "1.5.0",
          "state": {
            "_view_name": "HTMLView",
            "style": "IPY_MODEL_8ee332327a324942a7e16feac63c68d0",
            "_dom_classes": [],
            "description": "",
            "_model_name": "HTMLModel",
            "placeholder": "​",
            "_view_module": "@jupyter-widgets/controls",
            "_model_module_version": "1.5.0",
            "value": " 142k/? [00:00&lt;00:00, 2.66MB/s]",
            "_view_count": null,
            "_view_module_version": "1.5.0",
            "description_tooltip": null,
            "_model_module": "@jupyter-widgets/controls",
            "layout": "IPY_MODEL_e778b73fdd824766a5ae0b9ab96fc2c8"
          }
        },
        "1de828e7c5f44f18b59efa166a4ad152": {
          "model_module": "@jupyter-widgets/controls",
          "model_name": "DescriptionStyleModel",
          "model_module_version": "1.5.0",
          "state": {
            "_view_name": "StyleView",
            "_model_name": "DescriptionStyleModel",
            "description_width": "",
            "_view_module": "@jupyter-widgets/base",
            "_model_module_version": "1.5.0",
            "_view_count": null,
            "_view_module_version": "1.2.0",
            "_model_module": "@jupyter-widgets/controls"
          }
        },
        "df5bea29e26147ec940509b9d4aa0908": {
          "model_module": "@jupyter-widgets/base",
          "model_name": "LayoutModel",
          "model_module_version": "1.2.0",
          "state": {
            "_view_name": "LayoutView",
            "grid_template_rows": null,
            "right": null,
            "justify_content": null,
            "_view_module": "@jupyter-widgets/base",
            "overflow": null,
            "_model_module_version": "1.2.0",
            "_view_count": null,
            "flex_flow": null,
            "width": null,
            "min_width": null,
            "border": null,
            "align_items": null,
            "bottom": null,
            "_model_module": "@jupyter-widgets/base",
            "top": null,
            "grid_column": null,
            "overflow_y": null,
            "overflow_x": null,
            "grid_auto_flow": null,
            "grid_area": null,
            "grid_template_columns": null,
            "flex": null,
            "_model_name": "LayoutModel",
            "justify_items": null,
            "grid_row": null,
            "max_height": null,
            "align_content": null,
            "visibility": null,
            "align_self": null,
            "height": null,
            "min_height": null,
            "padding": null,
            "grid_auto_rows": null,
            "grid_gap": null,
            "max_width": null,
            "order": null,
            "_view_module_version": "1.2.0",
            "grid_template_areas": null,
            "object_position": null,
            "object_fit": null,
            "grid_auto_columns": null,
            "margin": null,
            "display": null,
            "left": null
          }
        },
        "af1689e1d2e644999181b9e97d3d20e4": {
          "model_module": "@jupyter-widgets/controls",
          "model_name": "ProgressStyleModel",
          "model_module_version": "1.5.0",
          "state": {
            "_view_name": "StyleView",
            "_model_name": "ProgressStyleModel",
            "description_width": "",
            "_view_module": "@jupyter-widgets/base",
            "_model_module_version": "1.5.0",
            "_view_count": null,
            "_view_module_version": "1.2.0",
            "bar_color": null,
            "_model_module": "@jupyter-widgets/controls"
          }
        },
        "0d75df8e2a314ca0acbb2c42e2490412": {
          "model_module": "@jupyter-widgets/base",
          "model_name": "LayoutModel",
          "model_module_version": "1.2.0",
          "state": {
            "_view_name": "LayoutView",
            "grid_template_rows": null,
            "right": null,
            "justify_content": null,
            "_view_module": "@jupyter-widgets/base",
            "overflow": null,
            "_model_module_version": "1.2.0",
            "_view_count": null,
            "flex_flow": null,
            "width": null,
            "min_width": null,
            "border": null,
            "align_items": null,
            "bottom": null,
            "_model_module": "@jupyter-widgets/base",
            "top": null,
            "grid_column": null,
            "overflow_y": null,
            "overflow_x": null,
            "grid_auto_flow": null,
            "grid_area": null,
            "grid_template_columns": null,
            "flex": null,
            "_model_name": "LayoutModel",
            "justify_items": null,
            "grid_row": null,
            "max_height": null,
            "align_content": null,
            "visibility": null,
            "align_self": null,
            "height": null,
            "min_height": null,
            "padding": null,
            "grid_auto_rows": null,
            "grid_gap": null,
            "max_width": null,
            "order": null,
            "_view_module_version": "1.2.0",
            "grid_template_areas": null,
            "object_position": null,
            "object_fit": null,
            "grid_auto_columns": null,
            "margin": null,
            "display": null,
            "left": null
          }
        },
        "8ee332327a324942a7e16feac63c68d0": {
          "model_module": "@jupyter-widgets/controls",
          "model_name": "DescriptionStyleModel",
          "model_module_version": "1.5.0",
          "state": {
            "_view_name": "StyleView",
            "_model_name": "DescriptionStyleModel",
            "description_width": "",
            "_view_module": "@jupyter-widgets/base",
            "_model_module_version": "1.5.0",
            "_view_count": null,
            "_view_module_version": "1.2.0",
            "_model_module": "@jupyter-widgets/controls"
          }
        },
        "e778b73fdd824766a5ae0b9ab96fc2c8": {
          "model_module": "@jupyter-widgets/base",
          "model_name": "LayoutModel",
          "model_module_version": "1.2.0",
          "state": {
            "_view_name": "LayoutView",
            "grid_template_rows": null,
            "right": null,
            "justify_content": null,
            "_view_module": "@jupyter-widgets/base",
            "overflow": null,
            "_model_module_version": "1.2.0",
            "_view_count": null,
            "flex_flow": null,
            "width": null,
            "min_width": null,
            "border": null,
            "align_items": null,
            "bottom": null,
            "_model_module": "@jupyter-widgets/base",
            "top": null,
            "grid_column": null,
            "overflow_y": null,
            "overflow_x": null,
            "grid_auto_flow": null,
            "grid_area": null,
            "grid_template_columns": null,
            "flex": null,
            "_model_name": "LayoutModel",
            "justify_items": null,
            "grid_row": null,
            "max_height": null,
            "align_content": null,
            "visibility": null,
            "align_self": null,
            "height": null,
            "min_height": null,
            "padding": null,
            "grid_auto_rows": null,
            "grid_gap": null,
            "max_width": null,
            "order": null,
            "_view_module_version": "1.2.0",
            "grid_template_areas": null,
            "object_position": null,
            "object_fit": null,
            "grid_auto_columns": null,
            "margin": null,
            "display": null,
            "left": null
          }
        }
      }
    }
  },
  "cells": [
    {
      "cell_type": "markdown",
      "metadata": {
        "id": "view-in-github",
        "colab_type": "text"
      },
      "source": [
        "<a href=\"https://colab.research.google.com/github/brmoreno/Cuarentena/blob/master/Untitled5.ipynb\" target=\"_parent\"><img src=\"https://colab.research.google.com/assets/colab-badge.svg\" alt=\"Open In Colab\"/></a>"
      ]
    },
    {
      "cell_type": "markdown",
      "source": [
        "Proceso básico de la poesía procedimental\n",
        "\n",
        "input -> proceso -> output\n",
        "\n",
        "INPUT\n",
        "fuente , semilla\n",
        "\n",
        "PROCESO\n",
        "1) obtener la fuente\n",
        "2) tratamiento de fuente\n",
        "3) implementar el proceso\n",
        "\n",
        "OUTPUT: \n",
        "texto -> una nueva semilla. "
      ],
      "metadata": {
        "id": "3oIS5lkN3N0M"
      }
    },
    {
      "cell_type": "code",
      "source": [
        "import requests\n",
        "r = requests.get(\"https://www.gutenberg.org/cache/epub/57303/pg57303.txt\")\n",
        "texto = r.text\n",
        "\n"
      ],
      "metadata": {
        "id": "5V-JpFb06Mee"
      },
      "execution_count": 1,
      "outputs": []
    },
    {
      "cell_type": "code",
      "source": [
        "lineas = []\n",
        "lineasIniciales = texto.splitlines()\n",
        "print(len(lineasIniciales))\n",
        "for linea in lineasIniciales:\n",
        "  if len(linea)>0:    \n",
        "    lineas.append(linea.strip())\n",
        "print(len(lineas))\n",
        "lineas = lineas[25:-1]"
      ],
      "metadata": {
        "colab": {
          "base_uri": "https://localhost:8080/"
        },
        "id": "9FF4tUdW8J7x",
        "outputId": "9cbdcd5d-bddf-43f0-ca22-8c565aecb04b"
      },
      "execution_count": 2,
      "outputs": [
        {
          "output_type": "stream",
          "name": "stdout",
          "text": [
            "14214\n",
            "11373\n"
          ]
        }
      ]
    },
    {
      "cell_type": "code",
      "source": [
        "palabras = []\n",
        "for linea in lineas:\n",
        "  pals = linea.split()\n",
        "  for palabra in pals:\n",
        "    palabras.append(palabra.strip('_¿?¡!()[].,:;-').lower())"
      ],
      "metadata": {
        "id": "SHpI46sM-uBG"
      },
      "execution_count": 3,
      "outputs": []
    },
    {
      "cell_type": "code",
      "source": [
        "import random\n",
        "def tzara(n , m):\n",
        "  linea = []\n",
        "  for i in range (0,n):\n",
        "    pos = random.randint(0,len(palabras))\n",
        "    linea.append(palabras[pos])\n",
        "  poema = []\n",
        "  verso = []\n",
        "  j = 0\n",
        "  while j < len(linea):\n",
        "    verso.append(linea[j])\n",
        "    if j%m==m-1:\n",
        "      poema.append(verso)\n",
        "      verso = []\n",
        "    j+=1\n",
        "  for v in poema:\n",
        "    print(' '.join(v))\n",
        "\n"
      ],
      "metadata": {
        "id": "4ouYgB4UBlm8"
      },
      "execution_count": 7,
      "outputs": []
    },
    {
      "cell_type": "code",
      "source": [
        "for i in range (0,10):\n",
        "  tzara(random.randint(50,100),random.randint(4,10))"
      ],
      "metadata": {
        "id": "qUIWajHB6W23"
      },
      "execution_count": null,
      "outputs": []
    },
    {
      "cell_type": "code",
      "source": [
        "import math\n",
        "def cutup(inicio, n):\n",
        "  paginaA = lineas[inicio:inicio+math.floor(n/2)]\n",
        "  paginaB = lineas[math.ceil(inicio+n/2):inicio+n]\n",
        "  sumatoria = 0\n",
        "  for linea in lineas[inicio:inicio + n]:\n",
        "    sumatoria += len(linea)\n",
        "  promedio = sumatoria/n\n",
        "  pagina1 = []\n",
        "  pagina2 =[]\n",
        "  pagina3 = []\n",
        "  pagina4 =[]\n",
        "  for linea in paginaA:\n",
        "    pagina1.append(linea[0:math.floor(promedio/2)])\n",
        "    pagina2.append(linea[math.floor(promedio/2):-1])\n",
        "  for linea in paginaB:\n",
        "    pagina3.append(linea[0:math.floor(promedio/2)])\n",
        "    pagina4.append(linea[math.floor(promedio/2):-1])\n",
        "  paginas = [pagina1,pagina2,pagina3,pagina4]\n",
        "  random.shuffle(paginas)\n",
        "  for i in range(len(paginas[0])):\n",
        "    print(paginas[0][i] + paginas[1][i])\n",
        "  for i in range(len(paginas[2])):\n",
        "    print(paginas[2][i] + paginas[3][i])"
      ],
      "metadata": {
        "id": "7xWOKgxAS3Mq"
      },
      "execution_count": null,
      "outputs": []
    },
    {
      "cell_type": "code",
      "source": [
        "def Diastico(st, n):\n",
        "  palabrasSemilla = st.split()\n",
        "  j = n\n",
        "  for palabra in palabrasSemilla:\n",
        "    verso = []\n",
        "    for i in range(len(palabra)):\n",
        "      pos = i\n",
        "      letra = palabra[i]\n",
        "      while j<len(palabras):\n",
        "        #encontrar las palabras que cumplan con la condición\n",
        "        if len(palabras[j])>i:\n",
        "          if (palabras[j][pos] == letra):\n",
        "            verso.append(palabras[j])\n",
        "            j+=1\n",
        "            break\n",
        "        j+=1 \n",
        "    print(' '.join(verso))"
      ],
      "metadata": {
        "id": "DSXQtlTM5L_T"
      },
      "execution_count": 58,
      "outputs": []
    },
    {
      "cell_type": "code",
      "source": [
        "for i in range (10):\n",
        "  Diastico(\"encontrar las palabras que cumplan con la condición\" , random.randint(0,2000))\n",
        "  print()\n",
        "  print()"
      ],
      "metadata": {
        "id": "tVeetWiiVrf6"
      },
      "execution_count": null,
      "outputs": []
    },
    {
      "cell_type": "code",
      "source": [
        "!pip install stanza\n",
        "import stanza\n",
        "stanza.download('es')"
      ],
      "metadata": {
        "colab": {
          "base_uri": "https://localhost:8080/",
          "height": 333,
          "referenced_widgets": [
            "925bd13d818d486b8e09d6bd8f50045c",
            "57bfb262857d43aa88a8e1036fee0b51",
            "536e85a3ea394450acf2134f6905dfb1",
            "be048253a5794b12a10bec444df6cc58",
            "a5f570579a014432b428f46108acaf99",
            "1de828e7c5f44f18b59efa166a4ad152",
            "df5bea29e26147ec940509b9d4aa0908",
            "af1689e1d2e644999181b9e97d3d20e4",
            "0d75df8e2a314ca0acbb2c42e2490412",
            "8ee332327a324942a7e16feac63c68d0",
            "e778b73fdd824766a5ae0b9ab96fc2c8"
          ]
        },
        "id": "RgJxFLptMjjq",
        "outputId": "bd9bc411-5bc9-4c68-d616-2be0c401520a"
      },
      "execution_count": 52,
      "outputs": [
        {
          "output_type": "stream",
          "name": "stdout",
          "text": [
            "Requirement already satisfied: stanza in /usr/local/lib/python3.7/dist-packages (1.3.0)\n",
            "Requirement already satisfied: tqdm in /usr/local/lib/python3.7/dist-packages (from stanza) (4.62.3)\n",
            "Requirement already satisfied: numpy in /usr/local/lib/python3.7/dist-packages (from stanza) (1.19.5)\n",
            "Requirement already satisfied: torch>=1.3.0 in /usr/local/lib/python3.7/dist-packages (from stanza) (1.10.0+cu111)\n",
            "Requirement already satisfied: six in /usr/local/lib/python3.7/dist-packages (from stanza) (1.15.0)\n",
            "Requirement already satisfied: emoji in /usr/local/lib/python3.7/dist-packages (from stanza) (1.6.1)\n",
            "Requirement already satisfied: protobuf in /usr/local/lib/python3.7/dist-packages (from stanza) (3.17.3)\n",
            "Requirement already satisfied: requests in /usr/local/lib/python3.7/dist-packages (from stanza) (2.23.0)\n",
            "Requirement already satisfied: typing-extensions in /usr/local/lib/python3.7/dist-packages (from torch>=1.3.0->stanza) (3.10.0.2)\n",
            "Requirement already satisfied: certifi>=2017.4.17 in /usr/local/lib/python3.7/dist-packages (from requests->stanza) (2021.10.8)\n",
            "Requirement already satisfied: idna<3,>=2.5 in /usr/local/lib/python3.7/dist-packages (from requests->stanza) (2.10)\n",
            "Requirement already satisfied: urllib3!=1.25.0,!=1.25.1,<1.26,>=1.21.1 in /usr/local/lib/python3.7/dist-packages (from requests->stanza) (1.24.3)\n",
            "Requirement already satisfied: chardet<4,>=3.0.2 in /usr/local/lib/python3.7/dist-packages (from requests->stanza) (3.0.4)\n"
          ]
        },
        {
          "output_type": "display_data",
          "data": {
            "application/vnd.jupyter.widget-view+json": {
              "model_id": "925bd13d818d486b8e09d6bd8f50045c",
              "version_minor": 0,
              "version_major": 2
            },
            "text/plain": [
              "Downloading https://raw.githubusercontent.com/stanfordnlp/stanza-resources/main/resources_1.3.0.json:   0%|   …"
            ]
          },
          "metadata": {}
        },
        {
          "output_type": "stream",
          "name": "stderr",
          "text": [
            "2021-12-16 17:28:52 INFO: Downloading default packages for language: es (Spanish)...\n",
            "2021-12-16 17:28:55 INFO: File exists: /root/stanza_resources/es/default.zip.\n",
            "2021-12-16 17:29:02 INFO: Finished downloading models and saved to /root/stanza_resources.\n"
          ]
        }
      ]
    }
  ]
}