{
  "nbformat": 4,
  "nbformat_minor": 0,
  "metadata": {
    "colab": {
      "name": "Untitled5.ipynb",
      "provenance": [],
      "collapsed_sections": [],
      "authorship_tag": "ABX9TyOgPyUG1RIRY5pV6rQyVRsw",
      "include_colab_link": true
    },
    "kernelspec": {
      "name": "python3",
      "display_name": "Python 3"
    },
    "language_info": {
      "name": "python"
    }
  },
  "cells": [
    {
      "cell_type": "markdown",
      "metadata": {
        "id": "view-in-github",
        "colab_type": "text"
      },
      "source": [
        "<a href=\"https://colab.research.google.com/github/brmoreno/Cuarentena/blob/master/Untitled5.ipynb\" target=\"_parent\"><img src=\"https://colab.research.google.com/assets/colab-badge.svg\" alt=\"Open In Colab\"/></a>"
      ]
    },
    {
      "cell_type": "markdown",
      "source": [
        "Proceso básico de la poesía procedimental\n",
        "\n",
        "input -> proceso -> output\n",
        "\n",
        "INPUT\n",
        "fuente , semilla\n",
        "\n",
        "PROCESO\n",
        "1) obtener la fuente\n",
        "2) tratamiento de fuente\n",
        "3) implementar el proceso\n",
        "\n",
        "OUTPUT: \n",
        "texto -> una nueva semilla. "
      ],
      "metadata": {
        "id": "3oIS5lkN3N0M"
      }
    },
    {
      "cell_type": "code",
      "source": [
        "import requests\n",
        "r = requests.get(\"https://www.gutenberg.org/cache/epub/57303/pg57303.txt\")\n",
        "texto = r.text\n",
        "\n"
      ],
      "metadata": {
        "id": "5V-JpFb06Mee"
      },
      "execution_count": 1,
      "outputs": []
    },
    {
      "cell_type": "code",
      "source": [
        "lineas = []\n",
        "lineasIniciales = texto.splitlines()\n",
        "print(len(lineasIniciales))\n",
        "for linea in lineasIniciales:\n",
        "  if len(linea)>0:    \n",
        "    lineas.append(linea.strip())\n",
        "print(len(lineas))\n",
        "lineas = lineas[25:-1]"
      ],
      "metadata": {
        "colab": {
          "base_uri": "https://localhost:8080/"
        },
        "id": "9FF4tUdW8J7x",
        "outputId": "9cbdcd5d-bddf-43f0-ca22-8c565aecb04b"
      },
      "execution_count": 2,
      "outputs": [
        {
          "output_type": "stream",
          "name": "stdout",
          "text": [
            "14214\n",
            "11373\n"
          ]
        }
      ]
    },
    {
      "cell_type": "code",
      "source": [
        "palabras = []\n",
        "for linea in lineas:\n",
        "  pals = linea.split()\n",
        "  for palabra in pals:\n",
        "    palabras.append(palabra.strip('_¿?¡!()[].,:;-').lower())"
      ],
      "metadata": {
        "id": "SHpI46sM-uBG"
      },
      "execution_count": 3,
      "outputs": []
    },
    {
      "cell_type": "code",
      "source": [
        "import random\n",
        "def tzara(n , m):\n",
        "  linea = []\n",
        "  for i in range (0,n):\n",
        "    pos = random.randint(0,len(palabras))\n",
        "    linea.append(palabras[pos])\n",
        "  poema = []\n",
        "  verso = []\n",
        "  j = 0\n",
        "  while j < len(linea):\n",
        "    verso.append(linea[j])\n",
        "    if j%m==m-1:\n",
        "      poema.append(verso)\n",
        "      verso = []\n",
        "    j+=1\n",
        "  for v in poema:\n",
        "    print(' '.join(v))\n",
        "\n"
      ],
      "metadata": {
        "id": "4ouYgB4UBlm8"
      },
      "execution_count": 7,
      "outputs": []
    },
    {
      "cell_type": "code",
      "source": [
        "for i in range (0,10):\n",
        "  tzara(random.randint(50,100),random.randint(4,10))"
      ],
      "metadata": {
        "id": "qUIWajHB6W23"
      },
      "execution_count": null,
      "outputs": []
    },
    {
      "cell_type": "code",
      "source": [
        "import math\n",
        "def cutup(inicio, n):\n",
        "  paginaA = lineas[inicio:inicio+math.floor(n/2)]\n",
        "  paginaB = lineas[math.ceil(inicio+n/2):inicio+n]\n",
        "  sumatoria = 0\n",
        "  for linea in lineas[inicio:inicio + n]:\n",
        "    sumatoria += len(linea)\n",
        "  promedio = sumatoria/n\n",
        "  pagina1 = []\n",
        "  pagina2 =[]\n",
        "  pagina3 = []\n",
        "  pagina4 =[]\n",
        "  for linea in paginaA:\n",
        "    pagina1.append(linea[0:math.floor(promedio/2)])\n",
        "    pagina2.append(linea[math.floor(promedio/2):-1])\n",
        "  for linea in paginaB:\n",
        "    pagina3.append(linea[0:math.floor(promedio/2)])\n",
        "    pagina4.append(linea[math.floor(promedio/2):-1])\n",
        "  paginas = [pagina1,pagina2,pagina3,pagina4]\n",
        "  random.shuffle(paginas)\n",
        "  for i in range(len(paginas[0])):\n",
        "    print(paginas[0][i] + paginas[1][i])\n",
        "  for i in range(len(paginas[2])):\n",
        "    print(paginas[2][i] + paginas[3][i])"
      ],
      "metadata": {
        "id": "7xWOKgxAS3Mq"
      },
      "execution_count": null,
      "outputs": []
    },
    {
      "cell_type": "code",
      "source": [
        "def Diastico(st, n):\n",
        "  palabrasSemilla = st.split()\n",
        "  j = n\n",
        "  for palabra in palabrasSemilla:\n",
        "    verso = []\n",
        "    for i in range(len(palabra)):\n",
        "      pos = i\n",
        "      letra = palabra[i]\n",
        "      while j<len(palabras):\n",
        "        #encontrar las palabras que cumplan con la condición\n",
        "        if len(palabras[j])>i:\n",
        "          if (palabras[j][pos] == letra):\n",
        "            verso.append(palabras[j])\n",
        "            j+=1\n",
        "            break\n",
        "        j+=1 \n",
        "    print(' '.join(verso))"
      ],
      "metadata": {
        "id": "DSXQtlTM5L_T"
      },
      "execution_count": 58,
      "outputs": []
    },
    {
      "cell_type": "code",
      "source": [
        "for i in range (10):\n",
        "  Diastico(\"encontrar las palabras que cumplan con la condición\" , random.randint(0,2000))\n",
        "  print()\n",
        "  print()"
      ],
      "metadata": {
        "id": "tVeetWiiVrf6"
      },
      "execution_count": null,
      "outputs": []
    },
    {
      "cell_type": "code",
      "source": [
        "!pip install stanza\n",
        "import stanza\n",
        "stanza.download('es')"
      ],
      "metadata": {
        "id": "RgJxFLptMjjq"
      },
      "execution_count": null,
      "outputs": []
    },
    {
      "cell_type": "code",
      "source": [
        "es_npl = stanza.Pipeline('es')\n",
        "es_doc = []\n",
        "for i in range(100):\n",
        "  es_doc.append(es_npl(lineas[i]))\n"
      ],
      "metadata": {
        "id": "sg0fp6ODZMZg"
      },
      "execution_count": null,
      "outputs": []
    },
    {
      "cell_type": "code",
      "source": [
        "sustantivos = []\n",
        "adjetivos = []\n",
        "for i in range(len(es_doc)-1):\n",
        "  for sen in es_doc[i].sentences:\n",
        "    for word in sen.words:\n",
        "      if (str(word.pos) == 'NOUN'):\n",
        "        sustantivos. append(word.text)\n",
        "      if (str(word.pos) == \"ADJ\"):\n",
        "        adjetivos.append(word.text)"
      ],
      "metadata": {
        "id": "Y0f4BYLtWlzp"
      },
      "execution_count": 79,
      "outputs": []
    },
    {
      "cell_type": "code",
      "source": [
        "def knowles ():\n",
        "  print(\"una casa de \" + sustantivos[random.randint(0,len(sustantivos))-1])\n",
        "  print(\"ubicada en \" + sustantivos[random.randint(0,len(sustantivos)-1)] + \" \" + adjetivos[random.randint(0,len(adjetivos))])\n",
        "  print (\"iluminada por \" + sustantivos[random.randint(0,len(sustantivos)-1)] + \" \" + adjetivos[random.randint(0,len(adjetivos))])\n",
        "  print(\"habitada por \" + sustantivos[random.randint(0,len(sustantivos))-1] +\" y \" + sustantivos[random.randint(0,len(sustantivos))-1])\n"
      ],
      "metadata": {
        "id": "xCrbBBTQdcca"
      },
      "execution_count": 91,
      "outputs": []
    },
    {
      "cell_type": "code",
      "source": [
        "for i in range (10):\n",
        "  tzara(random.randint(50,100),random.randint(4,10))\n",
        "  print()\n",
        "  print()\n",
        "  cutup(random.randint(0,4000), random.randint(10,20))\n",
        "  print()\n",
        "  print()\n",
        "  Diastico(lineas[random.randint(0,1000)], random.randint(0,4000))\n",
        "  print()\n",
        "  print()\n",
        "  knowles()\n",
        "  print()\n",
        "  print()"
      ],
      "metadata": {
        "id": "CPty8tnTfodH"
      },
      "execution_count": null,
      "outputs": []
    }
  ]
}