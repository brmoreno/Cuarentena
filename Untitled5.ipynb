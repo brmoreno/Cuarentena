{
  "nbformat": 4,
  "nbformat_minor": 0,
  "metadata": {
    "colab": {
      "name": "Untitled5.ipynb",
      "provenance": [],
      "collapsed_sections": [],
      "authorship_tag": "ABX9TyPdQ1myGzqK2SqrimjUL/sX",
      "include_colab_link": true
    },
    "kernelspec": {
      "name": "python3",
      "display_name": "Python 3"
    },
    "language_info": {
      "name": "python"
    }
  },
  "cells": [
    {
      "cell_type": "markdown",
      "metadata": {
        "id": "view-in-github",
        "colab_type": "text"
      },
      "source": [
        "<a href=\"https://colab.research.google.com/github/brmoreno/Cuarentena/blob/master/Untitled5.ipynb\" target=\"_parent\"><img src=\"https://colab.research.google.com/assets/colab-badge.svg\" alt=\"Open In Colab\"/></a>"
      ]
    },
    {
      "cell_type": "markdown",
      "source": [
        "Proceso básico de la poesía procedimental\n",
        "\n",
        "input -> proceso -> output\n",
        "\n",
        "INPUT\n",
        "fuente , semilla\n",
        "\n",
        "PROCESO\n",
        "1) obtener la fuente\n",
        "2) tratamiento de fuente\n",
        "3) implementar el proceso\n",
        "\n",
        "OUTPUT: \n",
        "texto -> una nueva semilla. "
      ],
      "metadata": {
        "id": "3oIS5lkN3N0M"
      }
    },
    {
      "cell_type": "code",
      "source": [
        "import requests\n",
        "r = requests.get(\"https://www.gutenberg.org/cache/epub/57303/pg57303.txt\")\n",
        "texto = r.text\n",
        "\n"
      ],
      "metadata": {
        "id": "5V-JpFb06Mee"
      },
      "execution_count": 1,
      "outputs": []
    },
    {
      "cell_type": "code",
      "source": [
        "lineas = []\n",
        "lineasIniciales = texto.splitlines()\n",
        "print(len(lineasIniciales))\n",
        "for linea in lineasIniciales:\n",
        "  if len(linea)>0:    \n",
        "    lineas.append(linea.strip())\n",
        "print(len(lineas))\n",
        "lineas = lineas[25:-1]"
      ],
      "metadata": {
        "colab": {
          "base_uri": "https://localhost:8080/"
        },
        "id": "9FF4tUdW8J7x",
        "outputId": "9cbdcd5d-bddf-43f0-ca22-8c565aecb04b"
      },
      "execution_count": 2,
      "outputs": [
        {
          "output_type": "stream",
          "name": "stdout",
          "text": [
            "14214\n",
            "11373\n"
          ]
        }
      ]
    },
    {
      "cell_type": "code",
      "source": [
        "palabras = []\n",
        "for linea in lineas:\n",
        "  pals = linea.split()\n",
        "  for palabra in pals:\n",
        "    palabras.append(palabra.strip('_¿?¡!()[].,:;-').lower())"
      ],
      "metadata": {
        "id": "SHpI46sM-uBG"
      },
      "execution_count": 3,
      "outputs": []
    },
    {
      "cell_type": "code",
      "source": [
        "import random\n",
        "def tzara(n , m):\n",
        "  linea = []\n",
        "  for i in range (0,n):\n",
        "    pos = random.randint(0,len(palabras))\n",
        "    linea.append(palabras[pos])\n",
        "  poema = []\n",
        "  verso = []\n",
        "  j = 0\n",
        "  while j < len(linea):\n",
        "    verso.append(linea[j])\n",
        "    if j%m==m-1:\n",
        "      poema.append(verso)\n",
        "      verso = []\n",
        "    j+=1\n",
        "  for v in poema:\n",
        "    print(' '.join(v))\n",
        "\n"
      ],
      "metadata": {
        "id": "4ouYgB4UBlm8"
      },
      "execution_count": 7,
      "outputs": []
    },
    {
      "cell_type": "code",
      "source": [
        "for i in range (0,10):\n",
        "  tzara(random.randint(50,100),random.randint(4,10))"
      ],
      "metadata": {
        "id": "qUIWajHB6W23"
      },
      "execution_count": null,
      "outputs": []
    },
    {
      "cell_type": "code",
      "source": [
        "import math\n",
        "def cutup(inicio, n):\n",
        "  paginaA = lineas[inicio:inicio+math.floor(n/2)]\n",
        "  paginaB = lineas[math.ceil(inicio+n/2):inicio+n]\n",
        "  sumatoria = 0\n",
        "  for linea in lineas[inicio:inicio + n]:\n",
        "    sumatoria += len(linea)\n",
        "  promedio = sumatoria/n\n",
        "  pagina1 = []\n",
        "  pagina2 =[]\n",
        "  pagina3 = []\n",
        "  pagina4 =[]\n",
        "  for linea in paginaA:\n",
        "    pagina1.append(linea[0:math.floor(promedio/2)])\n",
        "    pagina2.append(linea[math.floor(promedio/2):-1])\n",
        "  for linea in paginaB:\n",
        "    pagina3.append(linea[0:math.floor(promedio/2)])\n",
        "    pagina4.append(linea[math.floor(promedio/2):-1])\n",
        "  paginas = [pagina1,pagina2,pagina3,pagina4]\n",
        "  random.shuffle(paginas)\n",
        "  for i in range(len(paginas[0])):\n",
        "    print(paginas[0][i] + paginas[1][i])\n",
        "  for i in range(len(paginas[2])):\n",
        "    print(paginas[2][i] + paginas[3][i])"
      ],
      "metadata": {
        "id": "7xWOKgxAS3Mq"
      },
      "execution_count": null,
      "outputs": []
    },
    {
      "cell_type": "code",
      "source": [
        "def Diastico(st):\n",
        "  palabrasSemilla = st.split()\n",
        "  print( palabrasSemilla)\n",
        "  j = 0\n",
        "  for palabra in palabrasSemilla:\n",
        "    for i in range(len(palabra)):\n",
        "      pos = i\n",
        "      letra = palabra[i]\n",
        "      print(str(i) +\" \" +  letra)\n",
        "      while j<len(palabras):\n",
        "        #encontrar las palabras que cumplan con la condición \n",
        "\n",
        "Diastico(\"puede ser aplicado a otros campos fuera de la escritura\")"
      ],
      "metadata": {
        "colab": {
          "base_uri": "https://localhost:8080/"
        },
        "id": "DSXQtlTM5L_T",
        "outputId": "f7c78146-4940-4e4d-aa73-92a3de144731"
      },
      "execution_count": 46,
      "outputs": [
        {
          "output_type": "stream",
          "name": "stdout",
          "text": [
            "['puede', 'ser', 'aplicado', 'a', 'otros', 'campos', 'fuera', 'de', 'la', 'escritura']\n",
            "0 p\n",
            "1 u\n",
            "2 e\n",
            "3 d\n",
            "4 e\n",
            "0 s\n",
            "1 e\n",
            "2 r\n",
            "0 a\n",
            "1 p\n",
            "2 l\n",
            "3 i\n",
            "4 c\n",
            "5 a\n",
            "6 d\n",
            "7 o\n",
            "0 a\n",
            "0 o\n",
            "1 t\n",
            "2 r\n",
            "3 o\n",
            "4 s\n",
            "0 c\n",
            "1 a\n",
            "2 m\n",
            "3 p\n",
            "4 o\n",
            "5 s\n",
            "0 f\n",
            "1 u\n",
            "2 e\n",
            "3 r\n",
            "4 a\n",
            "0 d\n",
            "1 e\n",
            "0 l\n",
            "1 a\n",
            "0 e\n",
            "1 s\n",
            "2 c\n",
            "3 r\n",
            "4 i\n",
            "5 t\n",
            "6 u\n",
            "7 r\n",
            "8 a\n"
          ]
        }
      ]
    },
    {
      "cell_type": "code",
      "source": [
        "!pip install stanza\n",
        "import stanza\n",
        "stanza.download('es')"
      ],
      "metadata": {
        "id": "RgJxFLptMjjq"
      },
      "execution_count": null,
      "outputs": []
    }
  ]
}